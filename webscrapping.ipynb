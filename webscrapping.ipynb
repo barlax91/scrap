{
 "cells": [
  {
   "cell_type": "code",
   "execution_count": 1,
   "id": "5bf94817",
   "metadata": {},
   "outputs": [],
   "source": [
    "import bs4\n",
    "import pandas\n",
    "    \n",
    "from urllib import request"
   ]
  },
  {
   "cell_type": "code",
   "execution_count": 2,
   "id": "19e354f2",
   "metadata": {},
   "outputs": [],
   "source": [
    "list_question_title = []"
   ]
  },
  {
   "cell_type": "code",
   "execution_count": 3,
   "id": "2af9a436",
   "metadata": {},
   "outputs": [],
   "source": [
    "for i in range (1):\n",
    "    url = \"https://stackoverflow.com/questions?tab=newest&page=\"+str(i)\n",
    "    request_text = request.urlopen(url).read()\n",
    "    page = bs4.BeautifulSoup(request_text,'html.parser')\n"
   ]
  },
  {
   "cell_type": "code",
   "execution_count": 4,
   "id": "75e42e69",
   "metadata": {},
   "outputs": [],
   "source": [
    "for item2 in page.find_all('a',{'class':'s-link'}):\n",
    "       list_question_title.append(item2.get_text())"
   ]
  },
  {
   "cell_type": "code",
   "execution_count": 5,
   "id": "02c19cd9",
   "metadata": {},
   "outputs": [
    {
     "name": "stdout",
     "output_type": "stream",
     "text": [
      "['\\n\\n', '\\n\\n', 'Splitting Date Range into Months in Excel', \"PHP | Google Translate API doesn't translate FR text\", 'How to debug in Visual Studio C++ without PDB', 'How do I count the number of paths in this problem?', \"how to cancel mongoose query 'save' 'pre' hook\", 'Spring Session on Spring Boot using MapSessionRepositiry as session storage on non-clustered persistence', 'Is it possible to access S2S VPN via Client VPN?', \"No module named 'core' django app deployed in Railway\", 'Unity: audio gets stuck when animation is played', 'get age in years for month of july', 'Bot status Discord.js 14.6.0', 'WooCommerce: Set shipping method to free by selected payment method', 'How to use firebase with flutter', 'new Date() render the wrong date format', 'VS code Wrong C output', 'How can I make my python program choose option by itself randomly if I kept it in one variable?', 'How to use Serilog with Windows Client (net6.0-windows) application', 'Django Verbatum like template tag to show verbatim and rendered nodes', 'Improving A* Pathfinding C#', 'Bash: Append to file based on specific location in code', 'Nuxt.js 3 Component Ajax Call', 'Django does not recognize my {% endblock %} tag in the html file', 'Is it more efficient to open one \"global\" database connection, or one per query?', 'Show fixed progress below navigation bar between different view controllers', '.eml files written to the inbox of the current Outlook profile', 'Obtain user email domain in Azure AD B2C through Graph API', 'SQL - Split records by whether or not multiple columns have values', 'how to create a table that records the users that have registered late in the form in spring boot', \"Wagtail 2.16.1: Preview for unpublished page redirects to 'real' URL and fails\", 'Strapi multi-level population with field selection', 'Spotify gives corrupted data in HTTP Toolkit', 'Const InitialValue Updating on updating thirdPartyRequestVar', 'Encoding UTF-8 to windows-1251 in javascript for <input>', 'How to get live updates of wifi signal strength?', 'Redirect DNS with Traefik to container on different port', 'How can I detect missing attributes on a method with Roslyn Code analyser', 'Convert Jquery Plugin to vanilla Javascript', 'How to pass value for ContentView that could be used further as Command Parameters', 'How to get a string from an array with specified starting character of the string and my string is JSON serialized string?', 'Utilize a command in batch to change the Output language of the CMD', 'Prolog: making a 4-argument add function', 'How can I create a public single-user jupyter notebook-server?', 'A program where it requires the user to ONLY type a Yes or No answer, otherwise repeat the whole question [duplicate]', 'Implementing a retry mechanism for an express route using a middleware', 'TS: Non-null assertions are not done at runtime?', 'Popular product combination - Regression Analysis?', 'How to sum bars that are more than 103 back in history?', 'why is my useEffect() working fine on local host but not on deployment?', 'Password Validator using loops and objects', 'how to use the put function of hive only on a part of ca class model?', '\\r\\n            Hot Network Questions\\r\\n        ']\n"
     ]
    }
   ],
   "source": [
    "print(list_question_title)"
   ]
  },
  {
   "cell_type": "code",
   "execution_count": null,
   "id": "7ae669bf",
   "metadata": {},
   "outputs": [],
   "source": []
  }
 ],
 "metadata": {
  "kernelspec": {
   "display_name": "Python 3 (ipykernel)",
   "language": "python",
   "name": "python3"
  },
  "language_info": {
   "codemirror_mode": {
    "name": "ipython",
    "version": 3
   },
   "file_extension": ".py",
   "mimetype": "text/x-python",
   "name": "python",
   "nbconvert_exporter": "python",
   "pygments_lexer": "ipython3",
   "version": "3.9.1"
  }
 },
 "nbformat": 4,
 "nbformat_minor": 5
}
